{
 "cells": [
  {
   "cell_type": "code",
   "execution_count": 2,
   "metadata": {},
   "outputs": [
    {
     "name": "stdout",
     "output_type": "stream",
     "text": [
      "Reading Training Data\n",
      "25% Complete\n",
      "50% Complete\n",
      "75% Complete\n",
      "Finished Reading Training Data\n",
      "Epoch 1/2\n",
      "1999/1999 [==============================] - 1590s 795ms/step - loss: 0.4417 - acc: 0.8324\n",
      "Epoch 2/2\n",
      "1999/1999 [==============================] - 1609s 805ms/step - loss: 0.0847 - acc: 0.9815\n"
     ]
    }
   ],
   "source": [
    "import os\n",
    "import glob\n",
    "import cv2\n",
    "import numpy as np\n",
    "from sklearn.utils import shuffle\n",
    "\n",
    "\n",
    "circle_train_path = 'C:\\\\Users\\\\Rohith\\\\Documents\\\\Rohith_Stuff\\\\Datasets\\\\Four_shapes\\\\circle_train'\n",
    "square_train_path = 'C:\\\\Users\\\\Rohith\\\\Documents\\\\Rohith_Stuff\\\\Datasets\\\\Four_shapes\\\\square_train'\n",
    "star_train_path = 'C:\\\\Users\\\\Rohith\\\\Documents\\\\Rohith_Stuff\\\\Datasets\\\\Four_shapes\\\\star_train'\n",
    "triangle_train_path = 'C:\\\\Users\\\\Rohith\\\\Documents\\\\Rohith_Stuff\\\\Datasets\\\\Four_shapes\\\\triangle_train'\n",
    "\n",
    "cir_path = os.path.join(circle_train_path,'*g')\n",
    "sq_path = os.path.join(square_train_path,'*g')\n",
    "str_path = os.path.join(star_train_path,'*g')\n",
    "trg_path = os.path.join(triangle_train_path,'*g')\n",
    "\n",
    "x_train = []\n",
    "y_train = []\n",
    "\n",
    "print(\"Reading Training Data\")\n",
    "\n",
    "file_1 = glob.glob(cir_path)\n",
    "for f1 in file_1:\n",
    "    img = cv2.imread(f1)\n",
    "    x_train.append(img)\n",
    "    y_train.append([1,0,0,0])\n",
    "    \n",
    "print(\"25% Complete\")\n",
    "    \n",
    "file_2 = glob.glob(sq_path)\n",
    "for f2 in file_2:\n",
    "    img = cv2.imread(f2)\n",
    "    x_train.append(img)\n",
    "    y_train.append([0,1,0,0])\n",
    "    \n",
    "print(\"50% Complete\")\n",
    "    \n",
    "file_3 = glob.glob(str_path)\n",
    "for f3 in file_3:\n",
    "    img = cv2.imread(f3)\n",
    "    x_train.append(img)\n",
    "    y_train.append([0,0,1,0])\n",
    "    \n",
    "print(\"75% Complete\")\n",
    "    \n",
    "file_4 = glob.glob(trg_path)\n",
    "for f4 in file_4:\n",
    "    img = cv2.imread(f4)\n",
    "    x_train.append(img)\n",
    "    y_train.append([0,0,0,1])\n",
    "    \n",
    "x_train = np.array(x_train)\n",
    "y_train = np.array(y_train)\n",
    "\n",
    "x_train, y_train = shuffle(x_train,y_train)\n",
    "\n",
    "print(\"Finished Reading Training Data\")\n",
    "\n",
    "import keras\n",
    "from keras.models import Sequential\n",
    "from keras.layers import Dense,Conv2D,MaxPooling2D,Flatten,Dropout\n",
    "from keras.layers.normalization import BatchNormalization\n",
    "\n",
    "\n",
    "model = Sequential()\n",
    "model.add(Conv2D(32,(3,3),activation='relu',input_shape = (200,200,3)))\n",
    "model.add(MaxPooling2D((2,2),strides = (2,2)))\n",
    "model.add(BatchNormalization())\n",
    "model.add(Conv2D(64,(2,2),activation='relu'))\n",
    "model.add(MaxPooling2D((2,2),strides = (2,2)))\n",
    "model.add(Conv2D(128,(2,2),activation='relu'))\n",
    "model.add(MaxPooling2D((2,2),strides = (2,2)))\n",
    "model.add(BatchNormalization())\n",
    "model.add(Conv2D(256,(5,5),activation='relu'))\n",
    "model.add(MaxPooling2D((2,2),strides = (2,2)))\n",
    "model.add(BatchNormalization())\n",
    "model.add(Flatten())\n",
    "model.add(Dense(4096,activation = 'relu'))\n",
    "model.add(Dropout(0.5))\n",
    "model.add(Dense(4,activation='softmax'))\n",
    "\n",
    "\n",
    "model.compile(loss=keras.losses.categorical_crossentropy,\n",
    "             optimizer=keras.optimizers.SGD(lr=0.00001),\n",
    "             metrics = ['accuracy'])\n",
    "\n",
    "model.fit(x_train,y_train,batch_size = 1,epochs = 2,verbose = 1,validation_split = 0.0)\n",
    "model.save('C:\\\\Users\\\\Rohith\\\\Documents\\\\Rohith_Stuff\\\\Datasets\\\\Four_shapes\\\\shape_recg.h5')\n",
    "del model"
   ]
  },
  {
   "cell_type": "code",
   "execution_count": 1,
   "metadata": {},
   "outputs": [
    {
     "name": "stderr",
     "output_type": "stream",
     "text": [
      "C:\\Users\\Rohith\\Anaconda3\\envs\\projects\\lib\\site-packages\\h5py\\__init__.py:36: FutureWarning: Conversion of the second argument of issubdtype from `float` to `np.floating` is deprecated. In future, it will be treated as `np.float64 == np.dtype(float).type`.\n",
      "  from ._conv import register_converters as _register_converters\n",
      "Using TensorFlow backend.\n"
     ]
    }
   ],
   "source": [
    "from keras.models import load_model\n",
    "model = load_model('C:\\\\Users\\\\Rohith\\\\Documents\\\\Rohith_Stuff\\\\Datasets\\\\Four_shapes\\\\shape_recg.h5')"
   ]
  },
  {
   "cell_type": "code",
   "execution_count": 4,
   "metadata": {},
   "outputs": [
    {
     "name": "stdout",
     "output_type": "stream",
     "text": [
      "Star\n"
     ]
    }
   ],
   "source": [
    "import cv2\n",
    "import numpy as np\n",
    "\n",
    "\n",
    "\n",
    "dir_path = 'C:\\\\Users\\\\Rohith\\\\Documents\\\\Rohith_Stuff\\\\Datasets\\\\Four_shapes\\\\test\\\\3760.png'\n",
    "test_img = cv2.imread(dir_path)\n",
    "test_img = test_img.reshape(1,200,200,3)\n",
    "\n",
    "Y = model.predict(test_img)[0]\n",
    "val = np.argmax(Y)\n",
    "if(val == 0):\n",
    "    print(\"Circle\")\n",
    "elif(val == 1):\n",
    "    print(\"Square\")\n",
    "elif(val == 2):\n",
    "    print(\"Star\")\n",
    "else:\n",
    "    print(\"Triangle\")"
   ]
  }
 ],
 "metadata": {
  "kernelspec": {
   "display_name": "Python 3",
   "language": "python",
   "name": "python3"
  },
  "language_info": {
   "codemirror_mode": {
    "name": "ipython",
    "version": 3
   },
   "file_extension": ".py",
   "mimetype": "text/x-python",
   "name": "python",
   "nbconvert_exporter": "python",
   "pygments_lexer": "ipython3",
   "version": "3.6.4"
  }
 },
 "nbformat": 4,
 "nbformat_minor": 2
}
